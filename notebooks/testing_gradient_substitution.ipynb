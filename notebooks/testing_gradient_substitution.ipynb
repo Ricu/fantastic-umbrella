{
 "cells": [
  {
   "cell_type": "code",
   "execution_count": 27,
   "metadata": {},
   "outputs": [],
   "source": [
    "from torch import nn\n",
    "import torch\n",
    "import numpy as np\n",
    "import random \n",
    "\n",
    "class LinearNet(nn.Module):\n",
    "    def __init__(self, hidden_size=2):\n",
    "        super().__init__()\n",
    "        self.last_layer = nn.Linear(2, 2)\n",
    "        self.rll = nn.ReLU()\n",
    "        self.classifier = nn.Linear(2, 2)\n",
    "        \n",
    "    def forward(self, x):\n",
    "        x = self.last_layer(x)\n",
    "        x = self.rll(x)\n",
    "        x = self.classifier(x)\n",
    "        return x    "
   ]
  },
  {
   "cell_type": "code",
   "execution_count": 32,
   "metadata": {},
   "outputs": [
    {
     "name": "stdout",
     "output_type": "stream",
     "text": [
      "tensor([ 0.1070, -0.3308], grad_fn=<ViewBackward0>)\n",
      "tensor([0.1070, 0.0000], grad_fn=<ReluBackward0>)\n",
      "tensor([-0.2152, -0.1457], grad_fn=<ViewBackward0>)\n",
      "tensor([-0.2152, -0.1457], grad_fn=<BackwardHookFunctionBackward>)\n",
      "Linear(in_features=2, out_features=2, bias=True) (tensor([ 0.4826, -0.4826]),)\n",
      "Linear(in_features=2, out_features=2, bias=True) (tensor([0.0235, 0.1803]),) (tensor([ 0.4826, -0.4826]),)\n"
     ]
    }
   ],
   "source": [
    "input =torch.tensor([0.0,1.0])\n",
    "label = torch.tensor(1)\n",
    "\n",
    "torch.manual_seed(0)\n",
    "np.random.seed(0)\n",
    "random.seed(0)\n",
    "if torch.cuda.is_available():\n",
    "    torch.cuda.manual_seed_all(0)\n",
    "model = LinearNet()\n",
    "for n,m in model.named_modules():\n",
    "    m.register_forward_hook(lambda m,i,o: print(o))\n",
    "\n",
    "model.classifier.register_full_backward_pre_hook(lambda m,o: print(m,o))\n",
    "def break_graph(module, grad_output):\n",
    "    return None\n",
    "model.classifier.register_full_backward_pre_hook(break_graph,prepend=True)\n",
    "model.classifier.register_full_backward_hook(lambda m,i,o: print(m,i,o))\n",
    "\n",
    "model.last_layer.register_full_backward_hook(lambda m,i,o: print(m,i,o))\n",
    "\n",
    "criterion = nn.CrossEntropyLoss()\n",
    "\n",
    "\n",
    "logits = model(input)\n",
    "# print(logits)\n",
    "loss = criterion(logits, label)\n",
    "loss.backward()\n",
    "# print(loss)"
   ]
  },
  {
   "cell_type": "code",
   "execution_count": 4,
   "metadata": {},
   "outputs": [
    {
     "name": "stdout",
     "output_type": "stream",
     "text": [
      "last_layer.weight\n",
      "last_layer.bias\n",
      "classifier.weight\n",
      "classifier.bias\n"
     ]
    }
   ],
   "source": [
    "for n,_ in model.named_parameters():\n",
    "    print(n)\n"
   ]
  },
  {
   "cell_type": "code",
   "execution_count": 32,
   "metadata": {},
   "outputs": [
    {
     "data": {
      "text/plain": [
       "<function __main__.<lambda>(m, i, o)>"
      ]
     },
     "execution_count": 32,
     "metadata": {},
     "output_type": "execute_result"
    }
   ],
   "source": [
    "lambda m,i,o: print(o)"
   ]
  }
 ],
 "metadata": {
  "kernelspec": {
   "display_name": "fantastic-umbrella_2",
   "language": "python",
   "name": "python3"
  },
  "language_info": {
   "codemirror_mode": {
    "name": "ipython",
    "version": 3
   },
   "file_extension": ".py",
   "mimetype": "text/x-python",
   "name": "python",
   "nbconvert_exporter": "python",
   "pygments_lexer": "ipython3",
   "version": "3.9.18"
  }
 },
 "nbformat": 4,
 "nbformat_minor": 2
}
