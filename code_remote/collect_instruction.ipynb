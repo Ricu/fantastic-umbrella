{
 "cells": [
  {
   "cell_type": "markdown",
   "metadata": {},
   "source": [
    "# Set global parameters"
   ]
  },
  {
   "cell_type": "code",
   "execution_count": 47,
   "metadata": {},
   "outputs": [],
   "source": [
    "use_accelerate = True\n",
    "num_devices = 2 if use_accelerate else 1\n",
    "\n",
    "GENERATION = \"11b\"\n",
    "SWEEP_ID = 1\n",
    "base_dir = '/home/lange/fantastic-umbrella/runs'\n",
    "\n",
    "boolean_args = {\n",
    "    'with_tracking' : [True],\n",
    "}"
   ]
  },
  {
   "cell_type": "markdown",
   "metadata": {},
   "source": [
    "# Set run(s) parameters"
   ]
  },
  {
   "cell_type": "code",
   "execution_count": 48,
   "metadata": {},
   "outputs": [],
   "source": [
    "value_args ={\n",
    "    'task' : ['rte'],\n",
    "    'model_name_or_path' : ['bert-base-cased'],\n",
    "    'per_device_train_batch_size' : [32 // num_devices],\n",
    "    'per_device_eval_batch_size' : [16 // num_devices],\n",
    "    'learning_rate': [1e-6],\n",
    "    'weight_decay' : [0],\n",
    "    'num_train_epochs' : [100000],\n",
    "    'max_train_steps' : [100000],\n",
    "    'lr_scheduler_type' : ['linear'],\n",
    "    'num_warmup_steps' : [500],\n",
    "    'seed' : [0],\n",
    "    'report_to' : ['all'],\n",
    "    'insert_dropout' : [0.1],\n",
    "    # 'catch_dropout' : [0],\n",
    "    'training_size' : [32],\n",
    "    'beta1' : [0.9],\n",
    "    'beta2' : [0.999],\n",
    "    'early_stopping_patience' : [5000],\n",
    "    'early_stopping_min_delta' : [0],\n",
    "    'original_gradient_fraction' : [0]\n",
    "}\n"
   ]
  },
  {
   "cell_type": "markdown",
   "metadata": {},
   "source": [
    "# Util functions"
   ]
  },
  {
   "cell_type": "code",
   "execution_count": 49,
   "metadata": {},
   "outputs": [],
   "source": [
    "def compose_instruction(value_args, boolean_args, use_accelerate=False):\n",
    "    if use_accelerate:\n",
    "        instruction = 'accelerate launch run_glue_no_trainer_modded.py'\n",
    "    else:\n",
    "        instruction = 'python run_glue_no_trainer_modded.py'\n",
    "\n",
    "    for k, v in value_args.items():\n",
    "        instruction += f' --{k} {v}'\n",
    "\n",
    "    for k, v in boolean_args.items():\n",
    "        if v:\n",
    "            instruction += f' --{k}'\n",
    "\n",
    "    return instruction"
   ]
  },
  {
   "cell_type": "code",
   "execution_count": 50,
   "metadata": {},
   "outputs": [],
   "source": [
    "def determine_run_type(list_of_value_args):\n",
    "    if 'catch_dropout' in list_of_value_args[0]:\n",
    "        return \"modded\"\n",
    "    else:\n",
    "        return \"vanilla\""
   ]
  },
  {
   "cell_type": "markdown",
   "metadata": {},
   "source": [
    "# Create combinations"
   ]
  },
  {
   "cell_type": "code",
   "execution_count": 51,
   "metadata": {},
   "outputs": [
    {
     "name": "stdout",
     "output_type": "stream",
     "text": [
      "1\n"
     ]
    },
    {
     "data": {
      "text/plain": [
       "{'task': 'rte',\n",
       " 'model_name_or_path': 'bert-base-cased',\n",
       " 'per_device_train_batch_size': 16,\n",
       " 'per_device_eval_batch_size': 8,\n",
       " 'learning_rate': 1e-06,\n",
       " 'weight_decay': 0,\n",
       " 'num_train_epochs': 100000,\n",
       " 'max_train_steps': 100000,\n",
       " 'lr_scheduler_type': 'linear',\n",
       " 'num_warmup_steps': 500,\n",
       " 'seed': 0,\n",
       " 'report_to': 'all',\n",
       " 'insert_dropout': 0.1,\n",
       " 'training_size': 32,\n",
       " 'beta1': 0.9,\n",
       " 'beta2': 0.999,\n",
       " 'early_stopping_patience': 5000,\n",
       " 'early_stopping_min_delta': 0,\n",
       " 'original_gradient_fraction': 0}"
      ]
     },
     "execution_count": 51,
     "metadata": {},
     "output_type": "execute_result"
    }
   ],
   "source": [
    "from itertools import product\n",
    "keys, values = zip(*value_args.items())\n",
    "list_of_value_args = [dict(zip(keys, v)) for v in product(*values)]\n",
    "print(len(list_of_value_args))\n",
    "list_of_value_args[0]"
   ]
  },
  {
   "cell_type": "markdown",
   "metadata": {},
   "source": [
    "# Generate instructions"
   ]
  },
  {
   "cell_type": "code",
   "execution_count": 52,
   "metadata": {},
   "outputs": [
    {
     "name": "stdout",
     "output_type": "stream",
     "text": [
      "Detected sweep type: vanilla\n",
      "Number of experiments in this run in the range of 10^0\n"
     ]
    }
   ],
   "source": [
    "from math import log, ceil\n",
    "sweep_type = determine_run_type(list_of_value_args)\n",
    "print(f'Detected sweep type: {sweep_type}')\n",
    "magnitude = ceil(log(len(list_of_value_args),10))\n",
    "print(f'Number of experiments in this run in the range of 10^{magnitude}')\n",
    "sweep_identifier = f'{GENERATION}_{str(SWEEP_ID).zfill(2)}'\n",
    "\n",
    "with open(f'instructions_{sweep_identifier}.txt','w', newline='\\n') as f:\n",
    "    sweep_identifier += f'_{sweep_type}'\n",
    "    for idx, value_args in enumerate(list_of_value_args):\n",
    "        run_id = str(idx).zfill(magnitude)\n",
    "        output_dir = f'{base_dir}/sweep_{sweep_identifier}/run_{run_id}'\n",
    "        value_args[\"output_dir\"] = output_dir\n",
    "\n",
    "        instruction = compose_instruction(\n",
    "            value_args = value_args, \n",
    "            boolean_args = boolean_args,\n",
    "            use_accelerate = use_accelerate\n",
    "        )\n",
    "\n",
    "        f.write(instruction + '\\n')\n"
   ]
  },
  {
   "cell_type": "code",
   "execution_count": 53,
   "metadata": {},
   "outputs": [],
   "source": [
    "# run_id = 0\n",
    "# run_type = 'single'\n",
    "\n",
    "\n",
    "# output_dir = f'{base_dir}/{run_name}'\n",
    "\n",
    "# value_args ={\n",
    "#     'task' : 'rte',\n",
    "#     'model_name_or_path' : 'bert-base-cased',\n",
    "#     'per_device_train_batch_size' : 32 // num_devices,\n",
    "#     'per_device_eval_batch_size' : 16 // num_devices,\n",
    "#     'learning_rate': 1e-6,\n",
    "#     'weight_decay' : 0,\n",
    "#     'num_train_epochs' : 100000,\n",
    "#     'max_train_steps' : 100000,\n",
    "#     'lr_scheduler_type' : 'linear',\n",
    "#     'num_warmup_steps' : 500,\n",
    "#     'output_dir' : output_dir,\n",
    "#     'seed' : 0,\n",
    "#     'report_to' : 'all',\n",
    "#     'insert_dropout' : 0.1,\n",
    "#     'catch_dropout' : 0,\n",
    "#     'training_size' : 32,\n",
    "#     'beta1' : 0.9,\n",
    "#     'beta2' : 0.999,\n",
    "#     'early_stopping_patience' : 5000,\n",
    "#     'early_stopping_min_delta' : 0,\n",
    "#     'original_gradient_fraction' : 0\n",
    "# }\n",
    "# boolean_args = {\n",
    "#     'with_tracking' : True,\n",
    "\n",
    "# }\n",
    "\n",
    "# # Compose instruction\n",
    "# instruction = compose_instruction(value_args = value_args, \n",
    "#                                   boolean_args = boolean_args,\n",
    "#                                   use_accelerate = use_accelerate)\n",
    "\n",
    "# print(instruction)\n",
    "# # Write instruction\n",
    "# with open(f'instruction_{GENERATION}_{run_id}.txt', 'w') as f:\n",
    "#     f.write(instruction)"
   ]
  }
 ],
 "metadata": {
  "kernelspec": {
   "display_name": "fantastic-umbrella",
   "language": "python",
   "name": "python3"
  },
  "language_info": {
   "codemirror_mode": {
    "name": "ipython",
    "version": 3
   },
   "file_extension": ".py",
   "mimetype": "text/x-python",
   "name": "python",
   "nbconvert_exporter": "python",
   "pygments_lexer": "ipython3",
   "version": "3.9.16"
  },
  "orig_nbformat": 4
 },
 "nbformat": 4,
 "nbformat_minor": 2
}
