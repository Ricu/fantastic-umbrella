{
 "cells": [
  {
   "cell_type": "markdown",
   "metadata": {},
   "source": [
    "# Set global parameters"
   ]
  },
  {
   "cell_type": "code",
   "execution_count": 10,
   "metadata": {},
   "outputs": [],
   "source": [
    "use_accelerate = False\n",
    "num_devices = 2 if use_accelerate else 1\n",
    "\n",
    "GENERATION = \"13_bert_base_paper\"\n",
    "SWEEP_ID = 0\n",
    "base_dir = '/home/lange/fantastic-umbrella/runs'\n",
    "\n",
    "boolean_args = {\n",
    "    'with_tracking' : [True],\n",
    "}"
   ]
  },
  {
   "cell_type": "markdown",
   "metadata": {},
   "source": [
    "# Set run(s) parameters"
   ]
  },
  {
   "cell_type": "code",
   "execution_count": 11,
   "metadata": {},
   "outputs": [],
   "source": [
    "value_args ={\n",
    "    'task_name' : [\"cola\",\"sst2\",\"mrpc\",\"stsb\",\"stsb\",\"qqp\",\"mnli\",\"rte\"],\n",
    "    'model_name_or_path' : ['bert-base-uncased'],\n",
    "    'per_device_train_batch_size' : [32],\n",
    "    'per_device_eval_batch_size' : [32],\n",
    "    \n",
    "    'weight_decay' : [0.01],\n",
    "    \n",
    "    # 'max_train_steps' : [20000],\n",
    "    'lr_scheduler_type' : ['linear'],\n",
    "    # 'num_warmup_steps' : [4000],\n",
    "    'warmup_steps_fraction' : [0.1],\n",
    "    # 'seed' : [1,2,3,4,5],\n",
    "    'report_to' : ['all'],\n",
    "    'insert_dropout' : [0.1],\n",
    "    # 'catch_dropout' : [0,0.02],\n",
    "    'training_size' : [1],\n",
    "    'beta1' : [0.9],\n",
    "    'beta2' : [0.999],\n",
    "    'early_stopping_patience' : [5],\n",
    "    'early_stopping_min_delta' : [0],\n",
    "    'original_gradient_fraction' : [0],\n",
    "    'num_train_epochs' : [3],\n",
    "    'learning_rate': [5e-5,4e-5,3e-5,2e-5]\n",
    "}\n",
    "seeds = [1,2,3,4,5]"
   ]
  },
  {
   "cell_type": "code",
   "execution_count": null,
   "metadata": {},
   "outputs": [],
   "source": []
  },
  {
   "cell_type": "code",
   "execution_count": 12,
   "metadata": {},
   "outputs": [],
   "source": [
    "# import wandb\n",
    "# from pprint import pprint\n",
    "# api = wandb.Api()\n",
    "\n",
    "# pcids = []\n",
    "# run_names = []\n",
    "# for run in api.runs(\"ricu/fantastic-umbrella\"):\n",
    "#     if ('sweep_12a_00' in run.name) | ('sweep_12a_01' in run.name):\n",
    "#         run.config[\"run_generation\"] = GENERATION\n",
    "#         run.config[\"learning_rate\"] /= 2\n",
    "#         pcid = get_param_config_id(\n",
    "#             {k: run.config[k] for k in (list(value_args) + ['run_generation'])},\n",
    "#             insert_new=False\n",
    "#         )\n",
    "#         run.config[\"param_config_id\"] = pcid\n",
    "#         run.update()\n"
   ]
  },
  {
   "cell_type": "markdown",
   "metadata": {},
   "source": [
    "# Util functions"
   ]
  },
  {
   "cell_type": "code",
   "execution_count": 13,
   "metadata": {},
   "outputs": [],
   "source": [
    "def compose_instruction(value_args, boolean_args, use_accelerate=False):\n",
    "    if use_accelerate:\n",
    "        instruction = 'accelerate launch run_glue_no_trainer_modded.py'\n",
    "    else:\n",
    "        instruction = 'python run_glue_no_trainer_modded.py'\n",
    "\n",
    "    for k, v in value_args.items():\n",
    "        instruction += f' --{k} {v}'\n",
    "\n",
    "    for k, v in boolean_args.items():\n",
    "        if v:\n",
    "            instruction += f' --{k}'\n",
    "\n",
    "    return instruction"
   ]
  },
  {
   "cell_type": "code",
   "execution_count": 14,
   "metadata": {},
   "outputs": [],
   "source": [
    "import pandas as pd\n",
    "INDEX_FILE = 'run_index.csv'\n",
    "zfill = 4\n",
    "def get_param_config_id(param_dict, insert_new=True):\n",
    "    try:\n",
    "        pc_index = pd.read_csv(INDEX_FILE, index_col='id')\n",
    "    except FileNotFoundError: \n",
    "        pc_index = pd.DataFrame()\n",
    "        pc_index.index.name='id'\n",
    "\n",
    "    \n",
    "    if len(pc_index) == 0:\n",
    "        new_row = pd.DataFrame(param_dict,index = [0])\n",
    "        \n",
    "    else: \n",
    "        new_row = pd.DataFrame(param_dict,index = [pc_index.index.max()+1])\n",
    "    new_row.index.name = 'id'\n",
    "    # new_row.name = 0\n",
    "    pc_index = pd.concat([pc_index,new_row],join='outer')\n",
    "\n",
    "    duplicate_rows = pc_index.duplicated(keep=False)\n",
    "    if duplicate_rows.any():\n",
    "        pcid = duplicate_rows.idxmax()\n",
    "        pc_index = pc_index.drop_duplicates()\n",
    "    else:\n",
    "        pcid = new_row.index[0]\n",
    "\n",
    "    if insert_new:\n",
    "        pc_index.to_csv(INDEX_FILE)\n",
    "        \n",
    "    return f'pcid_{str(pcid).zfill(zfill)}'"
   ]
  },
  {
   "cell_type": "code",
   "execution_count": 15,
   "metadata": {},
   "outputs": [],
   "source": [
    "def determine_run_type(list_of_value_args):\n",
    "    if 'catch_dropout' in list_of_value_args[0]:\n",
    "        return \"modded\"\n",
    "    else:\n",
    "        return \"vanilla\""
   ]
  },
  {
   "cell_type": "markdown",
   "metadata": {},
   "source": [
    "# Create combinations"
   ]
  },
  {
   "cell_type": "code",
   "execution_count": 16,
   "metadata": {},
   "outputs": [
    {
     "name": "stdout",
     "output_type": "stream",
     "text": [
      "32\n"
     ]
    },
    {
     "data": {
      "text/plain": [
       "{'task_name': 'cola',\n",
       " 'model_name_or_path': 'bert-base-uncased',\n",
       " 'per_device_train_batch_size': 32,\n",
       " 'per_device_eval_batch_size': 32,\n",
       " 'weight_decay': 0.01,\n",
       " 'lr_scheduler_type': 'linear',\n",
       " 'warmup_steps_fraction': 0.1,\n",
       " 'report_to': 'all',\n",
       " 'insert_dropout': 0.1,\n",
       " 'training_size': 1,\n",
       " 'beta1': 0.9,\n",
       " 'beta2': 0.999,\n",
       " 'early_stopping_patience': 5,\n",
       " 'early_stopping_min_delta': 0,\n",
       " 'original_gradient_fraction': 0,\n",
       " 'num_train_epochs': 3,\n",
       " 'learning_rate': 5e-05}"
      ]
     },
     "execution_count": 16,
     "metadata": {},
     "output_type": "execute_result"
    }
   ],
   "source": [
    "from itertools import product\n",
    "keys, values = zip(*value_args.items())\n",
    "list_of_value_args = [dict(zip(keys, v)) for v in product(*values)]\n",
    "print(len(list_of_value_args))\n",
    "list_of_value_args[0]"
   ]
  },
  {
   "cell_type": "markdown",
   "metadata": {},
   "source": [
    "# Generate instructions"
   ]
  },
  {
   "cell_type": "code",
   "execution_count": 17,
   "metadata": {},
   "outputs": [
    {
     "name": "stdout",
     "output_type": "stream",
     "text": [
      "Detected sweep type: vanilla\n",
      "Number of experiments in this run in the range of 10^3\n"
     ]
    }
   ],
   "source": [
    "from math import log, ceil\n",
    "sweep_type = determine_run_type(list_of_value_args)\n",
    "print(f'Detected sweep type: {sweep_type}')\n",
    "magnitude = ceil(log(len(list_of_value_args)*len(seeds),10))\n",
    "print(f'Number of experiments in this run in the range of 10^{magnitude}')\n",
    "sweep_identifier = f'{GENERATION}_{str(SWEEP_ID).zfill(2)}'\n",
    "\n",
    "\n",
    "\n",
    "\n",
    "with open(f'instructions_{sweep_identifier}.txt','w', newline='\\n') as f:\n",
    "    sweep_identifier += f'_{sweep_type}'\n",
    "    for idx, value_args in enumerate(list_of_value_args): # Iterate over param constellations\n",
    "        value_args[\"run_generation\"] = GENERATION # set generation arg\n",
    "        param_config_id = get_param_config_id(value_args) # get pcid\n",
    "        value_args[\"param_config_id\"] = param_config_id # set pcid to args\n",
    "        for idy, seed in enumerate(seeds):\n",
    "            value_args[\"seed\"] = seed # update current seed to args\n",
    "            \n",
    "            \n",
    "            \n",
    "\n",
    "\n",
    "\n",
    "\n",
    "            run_id = str(idx+idy).zfill(magnitude)\n",
    "            output_dir = f'{base_dir}/sweep_{sweep_identifier}/run_{run_id}'\n",
    "            value_args[\"output_dir\"] = output_dir\n",
    "\n",
    "            instruction = compose_instruction(\n",
    "                value_args = value_args, \n",
    "                boolean_args = boolean_args,\n",
    "                use_accelerate = use_accelerate\n",
    "            )\n",
    "\n",
    "            f.write(instruction + '\\n')\n"
   ]
  },
  {
   "cell_type": "code",
   "execution_count": 18,
   "metadata": {},
   "outputs": [],
   "source": [
    "# run_id = 0\n",
    "# run_type = 'single'\n",
    "\n",
    "\n",
    "# output_dir = f'{base_dir}/{run_name}'\n",
    "\n",
    "# value_args ={\n",
    "#     'task' : 'rte',\n",
    "#     'model_name_or_path' : 'bert-base-cased',\n",
    "#     'per_device_train_batch_size' : 32 // num_devices,\n",
    "#     'per_device_eval_batch_size' : 16 // num_devices,\n",
    "#     'learning_rate': 1e-6,\n",
    "#     'weight_decay' : 0,\n",
    "#     'num_train_epochs' : 100000,\n",
    "#     'max_train_steps' : 100000,\n",
    "#     'lr_scheduler_type' : 'linear',\n",
    "#     'num_warmup_steps' : 500,\n",
    "#     'output_dir' : output_dir,\n",
    "#     'seed' : 0,\n",
    "#     'report_to' : 'all',\n",
    "#     'insert_dropout' : 0.1,\n",
    "#     'catch_dropout' : 0,\n",
    "#     'training_size' : 32,\n",
    "#     'beta1' : 0.9,\n",
    "#     'beta2' : 0.999,\n",
    "#     'early_stopping_patience' : 5000,\n",
    "#     'early_stopping_min_delta' : 0,\n",
    "#     'original_gradient_fraction' : 0\n",
    "# }\n",
    "# boolean_args = {\n",
    "#     'with_tracking' : True,\n",
    "\n",
    "# }\n",
    "\n",
    "# # Compose instruction\n",
    "# instruction = compose_instruction(value_args = value_args, \n",
    "#                                   boolean_args = boolean_args,\n",
    "#                                   use_accelerate = use_accelerate)\n",
    "\n",
    "# print(instruction)\n",
    "# # Write instruction\n",
    "# with open(f'instruction_{GENERATION}_{run_id}.txt', 'w') as f:\n",
    "#     f.write(instruction)"
   ]
  }
 ],
 "metadata": {
  "kernelspec": {
   "display_name": "fantastic-umbrella",
   "language": "python",
   "name": "python3"
  },
  "language_info": {
   "codemirror_mode": {
    "name": "ipython",
    "version": 3
   },
   "file_extension": ".py",
   "mimetype": "text/x-python",
   "name": "python",
   "nbconvert_exporter": "python",
   "pygments_lexer": "ipython3",
   "version": "3.9.16"
  },
  "orig_nbformat": 4
 },
 "nbformat": 4,
 "nbformat_minor": 2
}
