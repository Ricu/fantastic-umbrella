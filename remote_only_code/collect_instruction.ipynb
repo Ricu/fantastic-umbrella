{
 "cells": [
  {
   "cell_type": "code",
   "execution_count": 10,
   "metadata": {},
   "outputs": [],
   "source": [
    "def compose_instruction(task,\n",
    "                        output_dir,\n",
    "                        num_train_epochs = '3',\n",
    "                        learning_rate = '1e-5',\n",
    "                        train_data_frac = '1',\n",
    "                        insert_dropout = '-1',\n",
    "                        catch_dropout = '-1',\n",
    "                        use_modded = False,\n",
    "                        model_name_or_path=\"bert-base-cased\",\n",
    "                        max_length = '128',\n",
    "                        per_device_train_batch_size = '32',\n",
    "                        seed = '0'):\n",
    "    \n",
    "\n",
    "    base_command = 'python run_glue_no_trainer_modded.py '\n",
    "    argument_list = [\"--model_name_or_path\", model_name_or_path,\n",
    "                     \"--max_length\", max_length,\n",
    "                     \"--per_device_train_batch_size\", per_device_train_batch_size,\n",
    "                     \"--seed\", seed,\n",
    "                     \"--with_tracking\",\n",
    "                     \"--report_to\", \"tensorboard\"\n",
    "                    ]\n",
    "\n",
    "\n",
    "\n",
    "    argument_list = argument_list + [\"--task_name\", f'{task}']\n",
    "    argument_list = argument_list + [\"--num_train_epochs\", f'{num_train_epochs}']\n",
    "    argument_list = argument_list + [\"--learning_rate\", f'{learning_rate}']\n",
    "    argument_list = argument_list + [\"--train_data_frac\", f'{train_data_frac}']\n",
    "    argument_list = argument_list + [\"--insert_dropout\", f'{insert_dropout}']\n",
    "    argument_list = argument_list + [\"--catch_dropout\", f'{catch_dropout}']\n",
    "\n",
    "\n",
    "    if use_modded:\n",
    "        argument_list.append(\"--use_modded\")\n",
    "\n",
    "\n",
    "    argument_list = argument_list + [\"--output_dir\",output_dir]\n",
    "    argument_string = ' '.join(argument_list)\n",
    "    instruction = base_command + argument_string\n",
    "    return instruction"
   ]
  },
  {
   "cell_type": "markdown",
   "metadata": {},
   "source": [
    "# Reference Experiments"
   ]
  },
  {
   "cell_type": "code",
   "execution_count": 21,
   "metadata": {},
   "outputs": [],
   "source": [
    "experiment_parameters = {\n",
    "    'model_name_or_path':[\"bert-base-cased\"],\n",
    "    \"task\" : ['wnli', 'rte','cola'],\n",
    "    \"learning_rate\" : [2e-5, 5e-6],\n",
    "    \"insert_dropout\" : [0.1, 0.15, 0.18, 0.2, 0.3],\n",
    "    \"train_data_frac\" : [1,0.75,0.5,0.25],\n",
    "    \"use_modded\" : [False],\n",
    "    \"num_train_epochs\" : [80]\n",
    "}"
   ]
  },
  {
   "cell_type": "code",
   "execution_count": 22,
   "metadata": {},
   "outputs": [
    {
     "name": "stdout",
     "output_type": "stream",
     "text": [
      "120\n"
     ]
    },
    {
     "data": {
      "text/plain": [
       "{'model_name_or_path': 'bert-base-cased',\n",
       " 'task': 'wnli',\n",
       " 'learning_rate': 2e-05,\n",
       " 'insert_dropout': 0.1,\n",
       " 'train_data_frac': 1,\n",
       " 'use_modded': False,\n",
       " 'num_train_epochs': 80}"
      ]
     },
     "execution_count": 22,
     "metadata": {},
     "output_type": "execute_result"
    }
   ],
   "source": [
    "from itertools import product\n",
    "keys, values = zip(*experiment_parameters.items())\n",
    "permutations_dicts = [dict(zip(keys, v)) for v in product(*values)]\n",
    "print(len(permutations_dicts))\n",
    "permutations_dicts[0]"
   ]
  },
  {
   "cell_type": "code",
   "execution_count": 23,
   "metadata": {},
   "outputs": [],
   "source": [
    "type = \"reference\"\n",
    "base_dir = '/home/lange/fantastic-umbrella/runs'\n",
    "\n",
    "\n",
    "with open('reference_experiments_instructions.txt', 'w') as f:\n",
    "    \n",
    "    for idx, parameters in enumerate(permutations_dicts):\n",
    "        # print(f'##################################### Current iteration: {idx} #####################################')\n",
    "        \n",
    "        run_name = f'run_{type}_{idx}'\n",
    "\n",
    "        output_dir = f'{base_dir}/{run_name}'\n",
    "        instruction = compose_instruction(output_dir=output_dir,\n",
    "                                          **parameters)\n",
    "        f.write(instruction + '\\n')\n"
   ]
  },
  {
   "cell_type": "markdown",
   "metadata": {},
   "source": [
    "# Fantastic-Umbrella Experiments"
   ]
  },
  {
   "cell_type": "code",
   "execution_count": 14,
   "metadata": {},
   "outputs": [],
   "source": [
    "experiment_parameters = {\n",
    "    'model_name_or_path':[\"bert-base-cased\"],\n",
    "    \"task\" : ['wnli', 'rte','cola'],\n",
    "    \"learning_rate\" : [2e-5, 5e-6],\n",
    "    \"insert_dropout\" : [0.1, 0.15, 0.18, 0.2, 0.3],\n",
    "    \"catch_dropout\" : [0.1, 0],\n",
    "    \"train_data_frac\" : [1,0.75,0.5,0.25],\n",
    "    \"use_modded\" : [True],\n",
    "    \"num_train_epochs\" : [80]\n",
    "}"
   ]
  },
  {
   "cell_type": "code",
   "execution_count": 15,
   "metadata": {},
   "outputs": [
    {
     "name": "stdout",
     "output_type": "stream",
     "text": [
      "240\n"
     ]
    },
    {
     "data": {
      "text/plain": [
       "{'model_name_or_path': 'bert-base-cased',\n",
       " 'task': 'wnli',\n",
       " 'learning_rate': 2e-05,\n",
       " 'insert_dropout': 0.1,\n",
       " 'catch_dropout': 0.1,\n",
       " 'train_data_frac': 1,\n",
       " 'use_modded': True,\n",
       " 'num_train_epochs': 80}"
      ]
     },
     "execution_count": 15,
     "metadata": {},
     "output_type": "execute_result"
    }
   ],
   "source": [
    "from itertools import product\n",
    "keys, values = zip(*experiment_parameters.items())\n",
    "permutations_dicts = [dict(zip(keys, v)) for v in product(*values)]\n",
    "print(len(permutations_dicts))\n",
    "permutations_dicts[0]"
   ]
  },
  {
   "cell_type": "code",
   "execution_count": 24,
   "metadata": {},
   "outputs": [],
   "source": [
    "type = \"modded\"\n",
    "base_dir = '/home/lange/fantastic-umbrella/runs'\n",
    "\n",
    "\n",
    "with open('modded_experiments_instructions.txt', 'w') as f:\n",
    "    \n",
    "    for idx, parameters in enumerate(permutations_dicts):\n",
    "        # print(f'##################################### Current iteration: {idx} #####################################')\n",
    "        \n",
    "        run_name = f'run_{type}_{idx}'\n",
    "\n",
    "        output_dir = f'{base_dir}/{run_name}'\n",
    "        instruction = compose_instruction(output_dir=output_dir,\n",
    "                                          **parameters)\n",
    "        f.write(instruction + '\\n')\n"
   ]
  }
 ],
 "metadata": {
  "kernelspec": {
   "display_name": "fantastic-umbrella",
   "language": "python",
   "name": "python3"
  },
  "language_info": {
   "codemirror_mode": {
    "name": "ipython",
    "version": 3
   },
   "file_extension": ".py",
   "mimetype": "text/x-python",
   "name": "python",
   "nbconvert_exporter": "python",
   "pygments_lexer": "ipython3",
   "version": "3.9.16"
  },
  "orig_nbformat": 4
 },
 "nbformat": 4,
 "nbformat_minor": 2
}
