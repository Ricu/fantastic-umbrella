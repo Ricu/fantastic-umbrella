{
 "cells": [
  {
   "cell_type": "code",
   "execution_count": 1,
   "metadata": {},
   "outputs": [],
   "source": [
    "import os\n",
    "from pathlib import Path\n",
    "import fnmatch\n",
    "import json\n",
    "import pandas as pd\n",
    "import re"
   ]
  },
  {
   "cell_type": "code",
   "execution_count": null,
   "metadata": {},
   "outputs": [],
   "source": [
    "for path,dirs,files in os.walk('.\\\\runs'):\n",
    "    for file in fnmatch.filter(files,'all_results.json'):\n",
    "        fullname = os.path.abspath(os.path.join(path,file))\n",
    "        \n",
    "        task_name = os.path.basename(path)\n",
    "        folder_str = os.path.basename(os.path.dirname(os.path.dirname(fullname))) # move up two folders and get folder name\n",
    "        arguments = {}\n",
    "        if 'mod' in folder_str:\n",
    "            arguments['modded'] = True\n",
    "        else:\n",
    "            arguments['modded'] = False\n",
    "\n",
    "        rr = re.findall(\"[-+]?[.]?[\\d]+(?:,\\d\\d\\d)*[\\.]?\\d*(?:[eE][-+]?\\d+)?\", folder_str)\n",
    "        arguments[\"num_train_epochs\"] = int(rr[1])\n",
    "        arguments[\"hidden_dropout\"] = float(rr[0])\n",
    "\n",
    "        # print(arguments)\n",
    "        with open(os.path.abspath(os.path.join(path,'used_arguments.json')), \"w\") as f: \n",
    "            json.dump(arguments,f)\n",
    "        "
   ]
  },
  {
   "cell_type": "code",
   "execution_count": 7,
   "metadata": {},
   "outputs": [],
   "source": [
    "task_names = []\n",
    "modded_list = []\n",
    "num_train_epochs_list = []\n",
    "hidden_dropout_list = []\n",
    "eval_metrics = []\n",
    "eval_scores = []\n",
    "\n",
    "\n",
    "\n",
    "for path,dirs,files in os.walk('.\\\\runs'):\n",
    "    for file in fnmatch.filter(files,'used_arguments.json'):\n",
    "        # fullname = os.path.abspath(os.path.join(path,file))\n",
    "        task_name = os.path.basename(path)\n",
    "        with open(os.path.abspath(os.path.join(path,file))) as f:\n",
    "            d = json.load(f)\n",
    "            modded = d['modded']\n",
    "            num_train_epochs = d['num_train_epochs']\n",
    "            hidden_dropout = d['hidden_dropout']\n",
    "                       \n",
    "\n",
    "\n",
    "    for file in fnmatch.filter(files,'all_results.json'):\n",
    "        fullname = os.path.abspath(os.path.join(path,file))\n",
    "        task_name = os.path.basename(path)\n",
    "        with open(fullname) as f:\n",
    "            d = json.load(f)\n",
    "            for key,value in d.items():\n",
    "                task_names.append(task_name)\n",
    "                modded_list.append(modded)\n",
    "                hidden_dropout_list.append(hidden_dropout)\n",
    "                num_train_epochs_list.append(num_train_epochs)\n",
    "                eval_metrics.append(key)\n",
    "                eval_scores.append(value)\n"
   ]
  },
  {
   "cell_type": "code",
   "execution_count": 8,
   "metadata": {},
   "outputs": [],
   "source": [
    "df = pd.DataFrame({'task' : task_names,\n",
    "                   'modded' : modded_list,\n",
    "                       'num_train_epochs' : num_train_epochs_list,\n",
    "                       'hidden_dropout' : hidden_dropout_list,\n",
    "                       'metric' : eval_metrics,\n",
    "                       'score_mod' : eval_scores})#.set_index(['task','metric'])"
   ]
  },
  {
   "cell_type": "code",
   "execution_count": 9,
   "metadata": {},
   "outputs": [
    {
     "data": {
      "text/html": [
       "\n",
       "        <iframe\n",
       "            width=\"100%\"\n",
       "            height=\"475\"\n",
       "            src=\"http://DESKTOP-HFP2417:40000/dtale/iframe/2\"\n",
       "            frameborder=\"0\"\n",
       "            allowfullscreen\n",
       "            \n",
       "        ></iframe>\n",
       "        "
      ],
      "text/plain": [
       "<IPython.lib.display.IFrame at 0x26582606850>"
      ]
     },
     "metadata": {},
     "output_type": "display_data"
    },
    {
     "data": {
      "text/plain": []
     },
     "execution_count": 9,
     "metadata": {},
     "output_type": "execute_result"
    }
   ],
   "source": [
    "import dtale\n",
    "\n",
    "dtale.show(df)"
   ]
  }
 ],
 "metadata": {
  "kernelspec": {
   "display_name": "fantastic-umbrella",
   "language": "python",
   "name": "python3"
  },
  "language_info": {
   "codemirror_mode": {
    "name": "ipython",
    "version": 3
   },
   "file_extension": ".py",
   "mimetype": "text/x-python",
   "name": "python",
   "nbconvert_exporter": "python",
   "pygments_lexer": "ipython3",
   "version": "3.9.16"
  },
  "orig_nbformat": 4
 },
 "nbformat": 4,
 "nbformat_minor": 2
}
