{
 "cells": [
  {
   "cell_type": "code",
   "execution_count": null,
   "metadata": {},
   "outputs": [],
   "source": [
    "!pip install datasets evaluate accelerate\n",
    "!pip install git+https://github.com/huggingface/transformers\n",
    "#!pip3 install torch torchvision torchaudio --upgrade --index-url https://download.pytorch.org/whl/cu118\n",
    "import os\n",
    "os.kill(os.getpid(), 9)"
   ]
  },
  {
   "cell_type": "code",
   "execution_count": null,
   "metadata": {},
   "outputs": [],
   "source": [
    "from google.colab import drive\n",
    "drive.mount('/content/drive')"
   ]
  },
  {
   "cell_type": "code",
   "execution_count": null,
   "metadata": {},
   "outputs": [],
   "source": [
    "import torch\n",
    "torch.__version__ "
   ]
  },
  {
   "attachments": {},
   "cell_type": "markdown",
   "metadata": {},
   "source": [
    "Declare all possible parameters"
   ]
  },
  {
   "cell_type": "code",
   "execution_count": 25,
   "metadata": {},
   "outputs": [],
   "source": [
    "possible_values = {\n",
    "    \"task\" : ['wnli', 'rte'],\n",
    "    \"learning_rate\" : [5e-5, 1e-5],\n",
    "    \"hidden_dropout\" : [0.1, 0.5, 0.8],\n",
    "    \"use_pretrain_dropout_in_first_pass\" : [True, False],\n",
    "    \"train_data_frac\" : [1, 0.5, 0.1],\n",
    "    \"use_modded\" : [True, False],\n",
    "    \"num_train_epochs\" : [5]#, 10, 20]\n",
    "}"
   ]
  },
  {
   "attachments": {},
   "cell_type": "markdown",
   "metadata": {},
   "source": [
    "Create an exhaustive list of all parameter combinations"
   ]
  },
  {
   "cell_type": "code",
   "execution_count": null,
   "metadata": {},
   "outputs": [],
   "source": [
    "from itertools import product\n",
    "keys, values = zip(*possible_values.items())\n",
    "permutations_dicts = [dict(zip(keys, v)) for v in product(*values)]\n",
    "print(len(permutations_dicts))\n",
    "permutations_dicts"
   ]
  },
  {
   "attachments": {},
   "cell_type": "markdown",
   "metadata": {},
   "source": [
    "Construct the script command"
   ]
  },
  {
   "cell_type": "code",
   "execution_count": 32,
   "metadata": {},
   "outputs": [
    {
     "name": "stdout",
     "output_type": "stream",
     "text": [
      "['--model_name_or_path', 'bert-base-cased', '--max_length', '128', '--per_device_train_batch_size', '32', '--seed', '0', '--with_tracking', '--report_to tensorboard', '--task_name', 'WNLI', '--num_train_epochs', '5', '--learning_rate', '5e-05', '--train_data_frac', '1', '--hidden_dropout', '0.1', '--use_modded', '--use_pretrain_dropout_in_first_pass', '--output_dir', '/content/drive/MyDrive/Masterarbeit/fantastic-umbrella/runs/run-20230614_121442']\n"
     ]
    },
    {
     "ename": "KeyboardInterrupt",
     "evalue": "",
     "output_type": "error",
     "traceback": [
      "\u001b[1;31m---------------------------------------------------------------------------\u001b[0m",
      "\u001b[1;31mKeyboardInterrupt\u001b[0m                         Traceback (most recent call last)",
      "Cell \u001b[1;32mIn[32], line 39\u001b[0m\n\u001b[0;32m     35\u001b[0m instruction \u001b[39m=\u001b[39m base_command \u001b[39m+\u001b[39m argument_string\n\u001b[0;32m     36\u001b[0m \u001b[39m# print(instruction)\u001b[39;00m\n\u001b[0;32m     37\u001b[0m \n\u001b[0;32m     38\u001b[0m \u001b[39m# run the script with the desired arguments\u001b[39;00m\n\u001b[1;32m---> 39\u001b[0m os\u001b[39m.\u001b[39;49msystem(instruction)\n",
      "\u001b[1;31mKeyboardInterrupt\u001b[0m: "
     ]
    }
   ],
   "source": [
    "import datetime\n",
    "import os\n",
    "for parameters in permutations_dicts[:1]:\n",
    "\n",
    "    base_command = 'python run_glue_no_trainer_modded.py '\n",
    "    argument_list = [\"--model_name_or_path\", \"bert-base-cased\",\n",
    "                     \"--max_length\", \"128\",\n",
    "                     \"--per_device_train_batch_size\", \"32\",\n",
    "                     \"--seed\", \"0\",\n",
    "                     \"--with_tracking\",\n",
    "                     \"--report_to tensorboard\"\n",
    "                    ]\n",
    "\n",
    "\n",
    "\n",
    "    argument_list = argument_list + [\"--task_name\", f'{parameters[\"task\"]}']\n",
    "    argument_list = argument_list + [\"--num_train_epochs\", f'{parameters[\"num_train_epochs\"]}']\n",
    "    argument_list = argument_list + [\"--learning_rate\", f'{parameters[\"learning_rate\"]}']\n",
    "    argument_list = argument_list + [\"--train_data_frac\", f'{parameters[\"train_data_frac\"]}']\n",
    "    argument_list = argument_list + [\"--hidden_dropout\", f'{parameters[\"hidden_dropout\"]}']\n",
    "\n",
    "\n",
    "    if parameters[\"use_modded\"]:\n",
    "        argument_list.append(\"--use_modded\")\n",
    "\n",
    "    if parameters[\"use_pretrain_dropout_in_first_pass\"]:\n",
    "        argument_list.append(\"--use_pretrain_dropout_in_first_pass\")\n",
    "    \n",
    "    folder_name = 'run-{date:%Y%m%d_%H%M%S}'.format( date=datetime.datetime.now() )\n",
    "    output_dir = f\"/content/drive/MyDrive/Masterarbeit/fantastic-umbrella/runs/{folder_name}\"\n",
    "    argument_list = argument_list + [\"--output_dir\",output_dir]\n",
    "    # print(argument_list)\n",
    "    argument_string = ' '.join(argument_list)\n",
    "    # print(argument_string)\n",
    "    instruction = base_command + argument_string\n",
    "    # print(instruction)\n",
    "\n",
    "    # run the script with the desired arguments\n",
    "    # os.system(instruction) # vscode style\n",
    "    !{instruction} # colab style"
   ]
  },
  {
   "cell_type": "code",
   "execution_count": 6,
   "metadata": {},
   "outputs": [
    {
     "name": "stderr",
     "output_type": "stream",
     "text": [
      "Der Befehl \"bash\" ist entweder falsch geschrieben oder\n",
      "konnte nicht gefunden werden.\n"
     ]
    }
   ],
   "source": [
    "!bash run_modded.sh"
   ]
  },
  {
   "cell_type": "code",
   "execution_count": null,
   "metadata": {},
   "outputs": [],
   "source": [
    "import os\n",
    "import fnmatch\n",
    "\n",
    "for path,_,files in os.walk('/content'):\n",
    "    for file in fnmatch.filter(files,'pytorch_model.bin'):\n",
    "        fullname = os.path.abspath(os.path.join(path,file))\n",
    "        os.remove(fullname)\n",
    "        print(f'removed {fullname}')"
   ]
  },
  {
   "cell_type": "code",
   "execution_count": null,
   "metadata": {},
   "outputs": [],
   "source": [
    "# Zip the modded runs\n",
    "!zip -r '/content/mod_runs.zip' '/content/mod_runs'\n"
   ]
  },
  {
   "cell_type": "code",
   "execution_count": null,
   "metadata": {},
   "outputs": [],
   "source": [
    "!bash run_vanilla.sh"
   ]
  },
  {
   "cell_type": "code",
   "execution_count": null,
   "metadata": {},
   "outputs": [],
   "source": [
    "# Zip the vanilla runs\n",
    "!zip -r '/content/vanilla_runs.zip' '/content/vanilla_runs'"
   ]
  },
  {
   "cell_type": "code",
   "execution_count": null,
   "metadata": {},
   "outputs": [],
   "source": [
    "from google.colab import files\n",
    "files.download('/content/vanilla_runs.zip') "
   ]
  }
 ],
 "metadata": {
  "kernelspec": {
   "display_name": "fantastic-umbrella",
   "language": "python",
   "name": "python3"
  },
  "language_info": {
   "codemirror_mode": {
    "name": "ipython",
    "version": 3
   },
   "file_extension": ".py",
   "mimetype": "text/x-python",
   "name": "python",
   "nbconvert_exporter": "python",
   "pygments_lexer": "ipython3",
   "version": "3.9.16"
  },
  "orig_nbformat": 4
 },
 "nbformat": 4,
 "nbformat_minor": 2
}
